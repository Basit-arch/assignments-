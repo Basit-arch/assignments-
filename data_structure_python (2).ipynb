{
  "nbformat": 4,
  "nbformat_minor": 0,
  "metadata": {
    "colab": {
      "provenance": []
    },
    "kernelspec": {
      "name": "python3",
      "display_name": "Python 3"
    },
    "language_info": {
      "name": "python"
    }
  },
  "cells": [
    {
      "cell_type": "markdown",
      "source": [
        " Qno.1 Write a code to reverse a string"
      ],
      "metadata": {
        "id": "_zJXpnhH8SRJ"
      }
    },
    {
      "cell_type": "code",
      "source": [
        "def reverse_string(s):\n",
        "    return s[::-1]\n",
        "\n",
        "# Example usage:\n",
        "string = \"hello\"\n",
        "reversed_string = reverse_string(string)\n",
        "print(\"Original:\", string)\n",
        "print(\"Reversed:\", reversed_string)"
      ],
      "metadata": {
        "colab": {
          "base_uri": "https://localhost:8080/"
        },
        "id": "YuJ9IF7j9Nig",
        "outputId": "a0057b27-0255-4051-9507-75ae26f23caf"
      },
      "execution_count": null,
      "outputs": [
        {
          "output_type": "stream",
          "name": "stdout",
          "text": [
            "Original: hello\n",
            "Reversed: olleh\n"
          ]
        }
      ]
    },
    {
      "cell_type": "markdown",
      "source": [
        "This function uses slicing with a step of -1 to reverse the string in one line. The input string is sliced from the end to the beginning, effectively reversing it. The result is returned and printed for verification.\n"
      ],
      "metadata": {
        "id": "Yh0YRIF48kwc"
      }
    },
    {
      "cell_type": "markdown",
      "source": [
        "Qno.2 Write a code to count the number of vowels in a string"
      ],
      "metadata": {
        "id": "d0Kv9L6X8on4"
      }
    },
    {
      "cell_type": "code",
      "source": [
        "# define a function to count vowels\n",
        "def count_vowels(string):\n",
        "    vowels = \"AEIOUaeiou\"\n",
        "    count = 0\n",
        "    for char in string:\n",
        "        if char in vowels:\n",
        "            count += 1\n",
        "    return count\n",
        "\n",
        "# test the function\n",
        "string = \"Hello World!\"\n",
        "print(\"Number of vowels in string '{0}': {1}\".format(string, count_vowels(string)))"
      ],
      "metadata": {
        "colab": {
          "base_uri": "https://localhost:8080/"
        },
        "id": "LkYAB_Ty9Zdd",
        "outputId": "ec47d962-d8b8-41f8-ab14-1ca0c171d7de"
      },
      "execution_count": null,
      "outputs": [
        {
          "output_type": "stream",
          "name": "stdout",
          "text": [
            "Number of vowels in string 'Hello World!': 3\n"
          ]
        }
      ]
    },
    {
      "cell_type": "markdown",
      "source": [
        "In this code, we define a function called  that takes a string as input and returns the number of vowels in the string. We initialize a variable called  with all the vowels in upper case and lower case, and then we loop through each character in the string. If the character is a vowel, we increment a  variable. Finally, we return the count. We test the function by passing a string \"Hello World!\", and printing the count of vowels in it."
      ],
      "metadata": {
        "id": "nMkJwO7Q-M1D"
      }
    },
    {
      "cell_type": "markdown",
      "source": [
        " Qno.3 Write a code to check if a given string is a palindrome or not."
      ],
      "metadata": {
        "id": "B0Dw82dJ-OMb"
      }
    },
    {
      "cell_type": "markdown",
      "source": [
        "To check if a given string is a palindrome or not, we can compare the first character with the last character, second character with second last character and so on until we reach the middle of the string. If all the characters match, then the given string is a palindrome. Here's the code:\n",
        "\n"
      ],
      "metadata": {
        "id": "Q1Vu6ESo-WYh"
      }
    },
    {
      "cell_type": "code",
      "source": [
        "def is_palindrome(s):\n",
        "    s = s.lower()\n",
        "    for i in range(len(s)//2):\n",
        "        if s[i] != s[-i-1]:\n",
        "            return False\n",
        "    return True\n"
      ],
      "metadata": {
        "id": "VW4TbeYk-cHN"
      },
      "execution_count": null,
      "outputs": []
    },
    {
      "cell_type": "markdown",
      "source": [
        "In this code, we first convert the string to lowercase and then iterate through half of the string, comparing the characters from the front with the corresponding characters from the back. If any characters don't match, we immediately return False. If we reach the end of the loop without returning False, then the given string is a palindrome and we return True.\n",
        "\n"
      ],
      "metadata": {
        "id": "pz83pGe4-gff"
      }
    },
    {
      "cell_type": "markdown",
      "source": [
        "Qno.4 Write a code to check if two given strings are anagrams of each other\n",
        "\n"
      ],
      "metadata": {
        "id": "JzIKvUyg-met"
      }
    },
    {
      "cell_type": "markdown",
      "source": [
        "Create two dictionaries by iterating through each string and adding the count of each character to the respective dictionary. Then check if the dictionaries are equal, which indicates that the strings have the same frequency of characters and are anagrams of each other.\n",
        "\n",
        "Here's the code:\n"
      ],
      "metadata": {
        "id": "7p7hT8MP-p14"
      }
    },
    {
      "cell_type": "code",
      "source": [
        "def are_anagrams(s1, s2):\n",
        "    if len(s1) != len(s2):\n",
        "        return False\n",
        "\n",
        "    freq1 = {}\n",
        "    freq2 = {}\n",
        "\n",
        "    for char in s1:\n",
        "        freq1[char] = freq1.get(char, 0) + 1\n",
        "\n",
        "    for char in s2:\n",
        "        freq2[char] = freq2.get(char, 0) + 1\n",
        "\n",
        "    return freq1 == freq2\n"
      ],
      "metadata": {
        "id": "7zcJ4ytX-tcU"
      },
      "execution_count": null,
      "outputs": []
    },
    {
      "cell_type": "markdown",
      "source": [
        "This function takes two strings `s1` and `s2` as input. It first checks if the lengths of the strings are equal. If they are not, the function returns `False` as strings of different lengths cannot be anagrams of each other.\n",
        "\n",
        "Next, it creates two empty dictionaries `freq1` and `freq2`, and iterates through each character of the first and second string respectively. For each character, it updates the count in the corresponding dictionary.\n",
        "\n",
        "Finally, it checks if the two dictionaries are equal. If they are, the function returns `True` indicating that the two strings are anagrams of each other. Otherwise, it returns `False`.\n",
        "\n"
      ],
      "metadata": {
        "id": "PbMdmpTf-33F"
      }
    },
    {
      "cell_type": "markdown",
      "source": [
        "Qno.5 Write a code to find all occurrences of a given substring within another string\n"
      ],
      "metadata": {
        "id": "S06pnEsH-4ed"
      }
    },
    {
      "cell_type": "markdown",
      "source": [
        "To find all occurrences of a given substring within another string, we can use the `find()` method in a loop until it returns `-1`, which means that the substring was not found. We can keep track of the starting index of each match, and update the search start position as we find new matches.\n",
        "\n",
        "Here's the code:\n",
        "\n"
      ],
      "metadata": {
        "id": "CLAPwgT7-_lO"
      }
    },
    {
      "cell_type": "code",
      "source": [
        "def find_substring(string, substring):\n",
        "    indexes = []\n",
        "    start = 0\n",
        "    while True:\n",
        "        index = string.find(substring, start)\n",
        "        if index == -1:\n",
        "            break\n",
        "        indexes.append(index)\n",
        "        start = index + 1\n",
        "    return indexes\n"
      ],
      "metadata": {
        "id": "IZCHhrsP_DLP"
      },
      "execution_count": null,
      "outputs": []
    },
    {
      "cell_type": "markdown",
      "source": [
        "This function takes two arguments: `string` is the input string in which we want to find the substring, and `substring` is the target substring that we want to locate.\n",
        "\n",
        "The function initializes an empty list `indexes` and a search start position `start` as 0. It enters a loop that continues until `find()` returns `-1`, meaning that there are no more occurrences of the substring to be found. Within the loop, the function calls `find()` to search for the substring starting at the current `start` position. If `find()` returns `-1`, the loop exits. If `find()` returns a non-negative index, it means that the substring was found. The function appends the index to the `indexes` list, and updates the `start` position to just after the current match, so that it won't find the same match again.\n",
        "\n",
        "After the loop exits, the function returns the list of index positions where the substring was found.\n"
      ],
      "metadata": {
        "id": "3ftDV1FG_Cfx"
      }
    },
    {
      "cell_type": "markdown",
      "source": [
        "\n",
        "Qno.6 Write a code to perform basic string compression using the counts of repeated characters\n",
        "\n"
      ],
      "metadata": {
        "id": "gKwinZH6_chD"
      }
    },
    {
      "cell_type": "markdown",
      "source": [
        "Python code to perform basic string compression:\n",
        "```python\n",
        "def string_compression(string):\n",
        "    compression = \"\"\n",
        "    count = 1\n",
        "    for i in range(1, len(string)):\n",
        "        if string[i] == string[i-1]:\n",
        "            count += 1\n",
        "        else:\n",
        "            compression += string[i-1] + str(count)\n",
        "            count = 1\n",
        "    compression += string[-1] + str(count)\n",
        "    return compression if len(compression) < len(string) else string\n",
        "\n",
        "# Example usage:\n",
        "print(string_compression(\"aabcccccaaa\")) # Output: a2b1c5a3\n",
        "print(string_compression(\"abcdefg\")) # Output: abcdefg\n",
        "```\n",
        "This code compresses a given string by replacing sequences of repeated characters with the number of repetitions. The compressed string is returned only if it is shorter than the original string. Otherwise, the original string is returned.\n"
      ],
      "metadata": {
        "id": "SNH0H9Ca_fVh"
      }
    },
    {
      "cell_type": "markdown",
      "source": [
        "Qno.7 Write a code to determine if a string has all unique characters\n",
        "\n"
      ],
      "metadata": {
        "id": "4kV9xfml_zWB"
      }
    },
    {
      "cell_type": "markdown",
      "source": [
        "Here's a Python code to determine if a string has all unique characters:\n",
        "\n"
      ],
      "metadata": {
        "id": "5_IkyA0d_4o1"
      }
    },
    {
      "cell_type": "code",
      "source": [
        "def check_unique(string):\n",
        "    return len(set(string)) == len(string)\n",
        "\n",
        "\n"
      ],
      "metadata": {
        "id": "muWwg1jM_5Br"
      },
      "execution_count": null,
      "outputs": []
    },
    {
      "cell_type": "markdown",
      "source": [
        "\n",
        "This function takes a string as input and uses the set() function to obtain unique characters in the string. We then compare the lengths of the string and the set of unique characters - if they are equal, then the string has all unique characters.\n",
        "\n",
        "We can call the function with a string as follows:\n",
        "\n",
        "```\n",
        "check_unique(\"abcdefg\") # returns True\n",
        "check_unique(\"hello\") # returns False\n"
      ],
      "metadata": {
        "id": "YRLnku2oADgp"
      }
    },
    {
      "cell_type": "markdown",
      "source": [
        "Qno.8 Write a code to convert a given string to uppercase or lowercase\n"
      ],
      "metadata": {
        "id": "T8ZyMUZaAUXf"
      }
    },
    {
      "cell_type": "markdown",
      "source": [
        "Here’s a concise code to convert a string to uppercase or lowercase:\n",
        "\n",
        "\n"
      ],
      "metadata": {
        "id": "I3RlZqZZAVpX"
      }
    },
    {
      "cell_type": "code",
      "source": [
        "def convert_case(s, to_upper=True):\n",
        "    return s.upper() if to_upper else s.lower()\n"
      ],
      "metadata": {
        "id": "14Kw71jQA-Rp"
      },
      "execution_count": null,
      "outputs": []
    },
    {
      "cell_type": "markdown",
      "source": [
        "Qno.9 Write a code to count the number of words in a string\n"
      ],
      "metadata": {
        "id": "u56-x0-jAbp0"
      }
    },
    {
      "cell_type": "markdown",
      "source": [
        "Here’s a simple code to count the number of words in a string:\n"
      ],
      "metadata": {
        "id": "Jdozdt3JBG9N"
      }
    },
    {
      "cell_type": "code",
      "source": [
        "def count_words(s):\n",
        "    return len(s.split())\n",
        "\n",
        "# Example usage:\n",
        "string = \"Count the words in this sentence.\"\n",
        "print(count_words(string))  # Output: 6\n",
        "\n"
      ],
      "metadata": {
        "colab": {
          "base_uri": "https://localhost:8080/"
        },
        "id": "_08uUiHxBKBN",
        "outputId": "507496bb-5301-4669-ed4e-1a06f28a4ac0"
      },
      "execution_count": null,
      "outputs": [
        {
          "output_type": "stream",
          "name": "stdout",
          "text": [
            "6\n"
          ]
        }
      ]
    },
    {
      "cell_type": "markdown",
      "source": [
        " Qno.10 Write a code to concatenate two strings without using the + operator\n",
        "\n"
      ],
      "metadata": {
        "id": "3Lk_DtbGBPOn"
      }
    },
    {
      "cell_type": "markdown",
      "source": [
        "Here’s a code to concatenate two strings without using the + operator:"
      ],
      "metadata": {
        "id": "ubugf48pBUVt"
      }
    },
    {
      "cell_type": "code",
      "source": [
        "def concatenate_strings(s1, s2):\n",
        "    return \"\".join([s1, s2])\n",
        "\n",
        "# Example usage:\n",
        "result = concatenate_strings(\"Hello\", \"World\")\n",
        "print(result)  # Output: HelloWorld\n"
      ],
      "metadata": {
        "colab": {
          "base_uri": "https://localhost:8080/"
        },
        "id": "yktFUYqQBUpq",
        "outputId": "aabfee73-2c15-4719-a5c5-0376be7e87c4"
      },
      "execution_count": null,
      "outputs": [
        {
          "output_type": "stream",
          "name": "stdout",
          "text": [
            "HelloWorld\n"
          ]
        }
      ]
    },
    {
      "cell_type": "markdown",
      "source": [
        "\n",
        "Qno.11 Write a code to remove all occurrences of a specific element from a list\n"
      ],
      "metadata": {
        "id": "BWRa5M-QBeX3"
      }
    },
    {
      "cell_type": "markdown",
      "source": [
        "You can remove all occurrences of a specific element from a list in Python using list comprehension or a loop. Here are two approaches to do that:"
      ],
      "metadata": {
        "id": "i49w0qKTBjlJ"
      }
    },
    {
      "cell_type": "code",
      "source": [
        "### Approach 1: Using List Comprehension\n",
        "\n",
        "def remove_element(lst, element):\n",
        "    return [item for item in lst if item != element]\n",
        "\n",
        "# Example usage\n",
        "my_list = [1, 2, 3, 4, 2, 5, 2]\n",
        "result = remove_element(my_list, 2)\n",
        "print(result)  # Output: [1, 3, 4, 5]\n"
      ],
      "metadata": {
        "colab": {
          "base_uri": "https://localhost:8080/"
        },
        "id": "vJAIq3AkBqOq",
        "outputId": "e8e4ef16-332a-4fdd-90b1-51cb50f41aa6"
      },
      "execution_count": null,
      "outputs": [
        {
          "output_type": "stream",
          "name": "stdout",
          "text": [
            "[1, 3, 4, 5]\n"
          ]
        }
      ]
    },
    {
      "cell_type": "code",
      "source": [
        "### Approach 2: Using a Loop\n",
        "\n",
        "def remove_element(lst, element):\n",
        "    while element in lst:\n",
        "        lst.remove(element)\n",
        "    return lst\n",
        "\n",
        "# Example usage\n",
        "my_list = [1, 2, 3, 4, 2, 5, 2]\n",
        "result = remove_element(my_list, 2)\n",
        "print(result)  # Output: [1, 3, 4, 5]\n"
      ],
      "metadata": {
        "colab": {
          "base_uri": "https://localhost:8080/"
        },
        "id": "6IfiJzL_B4k9",
        "outputId": "43a30291-758f-445f-b52c-9823864c7512"
      },
      "execution_count": null,
      "outputs": [
        {
          "output_type": "stream",
          "name": "stdout",
          "text": [
            "[1, 3, 4, 5]\n"
          ]
        }
      ]
    },
    {
      "cell_type": "markdown",
      "source": [
        "### Explanation:\n",
        "- **List comprehension**: This creates a new list by including only those elements that do not match the specified `element`.\n",
        "- **Loop with `remove`**: This removes the first occurrence of the element from the list repeatedly until the element is no longer found in the list.\n",
        "\n",
        "Both methods will result in the removal of all occurrences of the specified element from the list.\n"
      ],
      "metadata": {
        "id": "0iE7ppmVCBop"
      }
    },
    {
      "cell_type": "markdown",
      "source": [
        "Qno.12 Write a code to remove all occurrences of a specific element from a list\n"
      ],
      "metadata": {
        "id": "ELejtTSiCGV7"
      }
    },
    {
      "cell_type": "markdown",
      "source": [
        "Here’s a Python code to remove all occurrences of a specific element from a list:\n"
      ],
      "metadata": {
        "id": "CJ14HxCECJCc"
      }
    },
    {
      "cell_type": "code",
      "source": [
        "def remove_element(lst, element):\n",
        "    return [item for item in lst if item != element]\n",
        "\n",
        "# Example usage\n",
        "my_list = [1, 2, 3, 2, 4]\n",
        "result = remove_element(my_list, 2)\n",
        "print(result)  # Output: [1, 3, 4]\n"
      ],
      "metadata": {
        "colab": {
          "base_uri": "https://localhost:8080/"
        },
        "id": "Kxk9w9GXCMG_",
        "outputId": "fe635d93-6f08-4dbc-e803-9a4cb168cf1a"
      },
      "execution_count": null,
      "outputs": [
        {
          "output_type": "stream",
          "name": "stdout",
          "text": [
            "[1, 3, 4]\n"
          ]
        }
      ]
    },
    {
      "cell_type": "markdown",
      "source": [
        "### Explanation:\n",
        "- The code uses list comprehension to create a new list excluding the specified element.\n",
        "\n"
      ],
      "metadata": {
        "id": "LbBcuyVZCTMZ"
      }
    },
    {
      "cell_type": "markdown",
      "source": [
        "\n",
        "Qno.13 Implement a code to find the second largest number in a given list of integers\n"
      ],
      "metadata": {
        "id": "Spe3R3wuCWrM"
      }
    },
    {
      "cell_type": "markdown",
      "source": [
        "Here’s a simple Python code to find the second largest number in a list of integers:\n"
      ],
      "metadata": {
        "id": "GfSa_-VbCbRS"
      }
    },
    {
      "cell_type": "code",
      "source": [
        "def second_largest(lst):\n",
        "    unique_lst = list(set(lst))  # Remove duplicates\n",
        "    unique_lst.sort()\n",
        "    return unique_lst[-2] if len(unique_lst) > 1 else None\n",
        "\n",
        "# Example usage\n",
        "my_list = [12, 45, 67, 89, 45]\n",
        "print(second_largest(my_list))  # Output: 67\n"
      ],
      "metadata": {
        "colab": {
          "base_uri": "https://localhost:8080/"
        },
        "id": "EZ171m3eCiNc",
        "outputId": "e1ce2a29-bd2e-45fa-cd00-292819c37920"
      },
      "execution_count": null,
      "outputs": [
        {
          "output_type": "stream",
          "name": "stdout",
          "text": [
            "67\n"
          ]
        }
      ]
    },
    {
      "cell_type": "markdown",
      "source": [
        "Qno.14 Create a code to count the occurrences of each element in a list and return a dictionary with elements as keys and their counts as values\n",
        "\n"
      ],
      "metadata": {
        "id": "Qb5gzNbvCpDm"
      }
    },
    {
      "cell_type": "code",
      "source": [
        "def count_occurrences(lst):\n",
        "    count_dict = {}\n",
        "    for item in lst:\n",
        "        count_dict[item] = count_dict.get(item, 0) + 1\n",
        "    return count_dict\n",
        "\n",
        "# Example usage\n",
        "my_list = [1, 2, 2, 3, 3, 3, 4, 5, 5, 5]\n",
        "result = count_occurrences(my_list)\n",
        "print(result)  # Output: {1: 1, 2: 2, 3: 3, 4: 1, 5: 3}\n"
      ],
      "metadata": {
        "colab": {
          "base_uri": "https://localhost:8080/"
        },
        "id": "c2YZoVYeC1GR",
        "outputId": "851a365c-c947-4ef2-8f46-dcfea903d6bc"
      },
      "execution_count": null,
      "outputs": [
        {
          "output_type": "stream",
          "name": "stdout",
          "text": [
            "{1: 1, 2: 2, 3: 3, 4: 1, 5: 3}\n"
          ]
        }
      ]
    },
    {
      "cell_type": "markdown",
      "source": [
        "### Explanation:\n",
        "- The function `count_occurrences ( lst )` initializes an empty dictionary (`count_dict`).\n",
        "- It loops over each element in the list and updates the dictionary. The `get(item, 0)` method ensures that if the element is not yet in the dictionary, it starts with a count of 0, then increments by 1 each time the element is encountered.\n",
        "- Finally, the function returns the dictionary with elements as keys and their counts as values.\n",
        "\n",
        "### Example Output:\n",
        "For the input `[1, 2, 2, 3, 3, 3, 4, 5, 5, 5]`, the output will be:\n",
        "```\n",
        "{1: 1, 2: 2, 3: 3, 4: 1, 5: 3}\n"
      ],
      "metadata": {
        "id": "wa8aExoLCxRo"
      }
    },
    {
      "cell_type": "markdown",
      "source": [
        "\n",
        "Qno.15 Write a code to reverse a list in-place without using any built-in reverse functions\n"
      ],
      "metadata": {
        "id": "hP0zuVThC7wu"
      }
    },
    {
      "cell_type": "markdown",
      "source": [
        "You can reverse a list in-place without using built-in reverse functions by swapping elements from both ends of the list. Here’s how you can do it:\n",
        "\n"
      ],
      "metadata": {
        "id": "1JNJRXNnDABR"
      }
    },
    {
      "cell_type": "code",
      "source": [
        "def reverse_list(lst):\n",
        "    left = 0\n",
        "    right = len(lst) - 1\n",
        "\n",
        "    while left < right:\n",
        "        # Swap the elements\n",
        "        lst[left], lst[right] = lst[right], lst[left]\n",
        "\n",
        "        # Move the pointers towards the center\n",
        "        left += 1\n",
        "        right -= 1\n",
        "\n",
        "# Example usage\n",
        "my_list = [1, 2, 3, 4, 5]\n",
        "reverse_list(my_list)\n",
        "print(my_list)  # Output: [5, 4, 3, 2, 1]\n"
      ],
      "metadata": {
        "colab": {
          "base_uri": "https://localhost:8080/"
        },
        "id": "6frB5Vj9DCil",
        "outputId": "73630adb-8521-460e-a8d6-696b087953e5"
      },
      "execution_count": null,
      "outputs": [
        {
          "output_type": "stream",
          "name": "stdout",
          "text": [
            "[5, 4, 3, 2, 1]\n"
          ]
        }
      ]
    },
    {
      "cell_type": "markdown",
      "source": [
        "### Explanation:\n",
        "- The function uses two pointers: `left` starting from the beginning of the list and `right` starting from the end.\n",
        "- The loop continues until `left` is no longer less than `right`.\n",
        "- In each iteration, the elements at `left` and `right` are swapped.\n",
        "- After each swap, the `left` pointer is incremented and the `right` pointer is decremented, moving towards the center of the list.\n",
        "- This process reverses the list in-place, without needing any additional space.\n",
        "\n",
        "### Output:\n",
        "For the input list `[1, 2, 3, 4, 5]`, the reversed list will be:\n",
        "```\n",
        "[5, 4, 3, 2, 1]\n"
      ],
      "metadata": {
        "id": "6igvA_1IDIlr"
      }
    },
    {
      "cell_type": "markdown",
      "source": [
        "Qno.16 Implement a code to find and remove duplicates from a list while preserving the original order of elements\n",
        "\n"
      ],
      "metadata": {
        "id": "rNR5Iuh8DMkC"
      }
    },
    {
      "cell_type": "markdown",
      "source": [
        "Here’s a Python code to find and remove duplicates from a list while preserving the original order of elements:\n"
      ],
      "metadata": {
        "id": "TCjw_V3XDOxr"
      }
    },
    {
      "cell_type": "code",
      "source": [
        "def remove_duplicates(lst):\n",
        "    seen = set()\n",
        "    result = []\n",
        "    for item in lst:\n",
        "        if item not in seen:\n",
        "            result.append(item)\n",
        "            seen.add(item)\n",
        "    return result\n",
        "\n",
        "# Example usage\n",
        "my_list = [1, 2, 2, 3, 4, 3, 5]\n",
        "result = remove_duplicates(my_list)\n",
        "print(result)  # Output: [1, 2, 3, 4, 5]\n"
      ],
      "metadata": {
        "colab": {
          "base_uri": "https://localhost:8080/"
        },
        "id": "Mm5s47BNDR-M",
        "outputId": "2b257844-5c2b-45af-b78d-eeeb3c9fc74c"
      },
      "execution_count": null,
      "outputs": [
        {
          "output_type": "stream",
          "name": "stdout",
          "text": [
            "[1, 2, 3, 4, 5]\n"
          ]
        }
      ]
    },
    {
      "cell_type": "markdown",
      "source": [
        "### Explanation:\n",
        "- The code uses a set (`seen`) to track elements that have already been added to the `result` list, ensuring duplicates are removed while maintaining the original order of the list.\n",
        "\n"
      ],
      "metadata": {
        "id": "xcPC9otwDPW_"
      }
    },
    {
      "cell_type": "markdown",
      "source": [
        "Qno.17 Create a code to check if a given list is sorted (either in ascending or descending order) or not\n"
      ],
      "metadata": {
        "id": "dCgbD9IADZvD"
      }
    },
    {
      "cell_type": "markdown",
      "source": [
        "Here’s a Python code to check if a given list is sorted in ascending or descending order:"
      ],
      "metadata": {
        "id": "NvkpBiMRDsRR"
      }
    },
    {
      "cell_type": "code",
      "source": [
        "def is_sorted(lst):\n",
        "    if lst == sorted(lst):\n",
        "        return \"Ascending\"\n",
        "    elif lst == sorted(lst, reverse=True):\n",
        "        return \"Descending\"\n",
        "    else:\n",
        "        return \"Not Sorted\"\n",
        "\n",
        "# Example usage\n",
        "my_list = [1, 2, 3, 4]\n",
        "result = is_sorted(my_list)\n",
        "print(result)  # Output: Ascending\n"
      ],
      "metadata": {
        "colab": {
          "base_uri": "https://localhost:8080/"
        },
        "id": "c_2-aRz6Dvh2",
        "outputId": "b14b7d05-51f0-4e10-c2f5-bdf33865ac3c"
      },
      "execution_count": null,
      "outputs": [
        {
          "output_type": "stream",
          "name": "stdout",
          "text": [
            "Ascending\n"
          ]
        }
      ]
    },
    {
      "cell_type": "markdown",
      "source": [
        "### Explanation:\n",
        "- The function compares the list with its sorted version (ascending and descending) and returns the appropriate message. If neither, it returns \"Not Sorted\".\n",
        "\n"
      ],
      "metadata": {
        "id": "xFlbgp8HD0af"
      }
    },
    {
      "cell_type": "markdown",
      "source": [
        "Qno.18 Write a code to merge two sorted lists into a single sorted list\n"
      ],
      "metadata": {
        "id": "z1vk7MWQD3kY"
      }
    },
    {
      "cell_type": "markdown",
      "source": [
        "Here’s a Python code to merge two sorted lists into a single sorted list:\n",
        "\n"
      ],
      "metadata": {
        "id": "zpUcyDQeD_mn"
      }
    },
    {
      "cell_type": "code",
      "source": [
        "def merge_sorted_lists(list1, list2):\n",
        "    merged_list = []\n",
        "    i, j = 0, 0\n",
        "\n",
        "    # Merge the two lists until one of them is fully processed\n",
        "    while i < len(list1) and j < len(list2):\n",
        "        if list1[i] < list2[j]:\n",
        "            merged_list.append(list1[i])\n",
        "            i += 1\n",
        "        else:\n",
        "            merged_list.append(list2[j])\n",
        "            j += 1\n",
        "\n",
        "    # Add remaining elements of list1 or list2\n",
        "    merged_list.extend(list1[i:])\n",
        "    merged_list.extend(list2[j:])\n",
        "\n",
        "    return merged_list\n",
        "\n",
        "# Example usage\n",
        "list1 = [1, 3, 5, 7]\n",
        "list2 = [2, 4, 6, 8]\n",
        "result = merge_sorted_lists(list1, list2)\n",
        "print(result)  # Output: [1, 2, 3, 4, 5, 6, 7, 8]\n"
      ],
      "metadata": {
        "colab": {
          "base_uri": "https://localhost:8080/"
        },
        "id": "357jY0ReEB9R",
        "outputId": "88fbb1a8-0f45-4d4a-d83d-b89d582fe541"
      },
      "execution_count": null,
      "outputs": [
        {
          "output_type": "stream",
          "name": "stdout",
          "text": [
            "[1, 2, 3, 4, 5, 6, 7, 8]\n"
          ]
        }
      ]
    },
    {
      "cell_type": "markdown",
      "source": [
        "### Explanation:\n",
        "- The function `merge_sorted_lists(list1, list2)` takes two sorted lists (`list1` and `list2`) as input.\n",
        "- It uses two pointers `i` and `j` to traverse through both lists.\n",
        "- If the current element of `list1` is smaller, it is added to the `merged_list`, and the pointer `i` is incremented.\n",
        "- If the current element of `list2` is smaller or equal, it is added to the `merged_list`, and the pointer `j` is incremented.\n",
        "- Once one of the lists is fully processed, any remaining elements from the other list are appended to the `merged_list`.\n",
        "  \n",
        "### Example Output:\n",
        "For the input lists `[1, 3, 5, 7]` and `[2, 4, 6, 8]`, the merged sorted list is:\n",
        "```\n",
        "[1, 2, 3, 4, 5, 6, 7, 8]\n"
      ],
      "metadata": {
        "id": "7P58NaUOET2B"
      }
    },
    {
      "cell_type": "markdown",
      "source": [
        "Qno.19 Implement a code to find the intersection of two given lists\n"
      ],
      "metadata": {
        "id": "QocKYe78EKhV"
      }
    },
    {
      "cell_type": "markdown",
      "source": [
        "Here is a Python code to find the intersection of two given lists:\n",
        "\n"
      ],
      "metadata": {
        "id": "_5KiZu4pEaS9"
      }
    },
    {
      "cell_type": "code",
      "source": [
        "def intersection(list1, list2):\n",
        "    return list(set(list1) & set(list2))\n",
        "\n",
        "# Example usage\n",
        "list1 = [1, 2, 3, 4]\n",
        "list2 = [3, 4, 5, 6]\n",
        "result = intersection(list1, list2)\n",
        "print(result)  # Output: [3, 4]\n"
      ],
      "metadata": {
        "colab": {
          "base_uri": "https://localhost:8080/"
        },
        "id": "MGJcPP-yEdF-",
        "outputId": "b182b605-317a-44ca-8424-a6710d2596e9"
      },
      "execution_count": null,
      "outputs": [
        {
          "output_type": "stream",
          "name": "stdout",
          "text": [
            "[3, 4]\n"
          ]
        }
      ]
    },
    {
      "cell_type": "markdown",
      "source": [
        "### Explanation:\n",
        "- The function `intersection` finds the common elements between `list1` and `list2` by converting both lists into sets and using the `&` operator for intersection.\n",
        "\n",
        " Write a code to merge two sorted lists into a single sorted list\n"
      ],
      "metadata": {
        "id": "D_WoEwzzEh7c"
      }
    },
    {
      "cell_type": "markdown",
      "source": [
        "Here’s a Python code to merge two sorted lists into a single sorted list:\n"
      ],
      "metadata": {
        "id": "x7e-3O5EElBs"
      }
    },
    {
      "cell_type": "code",
      "source": [
        "def merge_sorted_lists(list1, list2):\n",
        "    merged_list = []\n",
        "    i, j = 0, 0\n",
        "    while i < len(list1) and j < len(list2):\n",
        "        if list1[i] < list2[j]:\n",
        "            merged_list.append(list1[i])\n",
        "            i += 1\n",
        "        else:\n",
        "            merged_list.append(list2[j])\n",
        "            j += 1\n",
        "    merged_list.extend(list1[i:])\n",
        "    merged_list.extend(list2[j:])\n",
        "    return merged_list\n",
        "\n",
        "# Example usage\n",
        "list1 = [1, 3, 5]\n",
        "list2 = [2, 4, 6]\n",
        "result = merge_sorted_lists(list1, list2)\n",
        "print(result)  # Output: [1, 2, 3, 4, 5, 6]\n"
      ],
      "metadata": {
        "colab": {
          "base_uri": "https://localhost:8080/"
        },
        "id": "n885vXTJEtV3",
        "outputId": "8deb7653-3093-4338-92a6-0175041f9bdd"
      },
      "execution_count": null,
      "outputs": [
        {
          "output_type": "stream",
          "name": "stdout",
          "text": [
            "[1, 2, 3, 4, 5, 6]\n"
          ]
        }
      ]
    },
    {
      "cell_type": "markdown",
      "source": [
        "### Explanation:\n",
        "- The code iterates through both lists, comparing elements and merging them in sorted order. It then appends any remaining elements from both lists.\n",
        "\n"
      ],
      "metadata": {
        "id": "Nkrd3CS2EnrS"
      }
    },
    {
      "cell_type": "markdown",
      "source": [
        "Qno.20 Write a code to shuffle a given list randomly without using any built-in shuffle functions\n"
      ],
      "metadata": {
        "id": "SriEmC70Eyqe"
      }
    },
    {
      "cell_type": "markdown",
      "source": [
        "Here’s a Python code to shuffle a given list randomly without using any built-in shuffle functions:\n"
      ],
      "metadata": {
        "id": "Hjcu4t1WE6aa"
      }
    },
    {
      "cell_type": "code",
      "source": [
        "import random\n",
        "\n",
        "def shuffle_list(lst):\n",
        "    for i in range(len(lst)):\n",
        "        j = random.randint(0, len(lst) - 1)\n",
        "        lst[i], lst[j] = lst[j], lst[i]\n",
        "\n",
        "# Example usage\n",
        "my_list = [1, 2, 3, 4, 5]\n",
        "shuffle_list(my_list)\n",
        "print(my_list)  # Output: Shuffled list\n"
      ],
      "metadata": {
        "colab": {
          "base_uri": "https://localhost:8080/"
        },
        "id": "BPAIsmFiE_5Q",
        "outputId": "110a758a-6e59-47b2-9e85-724bdd9e04c3"
      },
      "execution_count": null,
      "outputs": [
        {
          "output_type": "stream",
          "name": "stdout",
          "text": [
            "[2, 1, 4, 5, 3]\n"
          ]
        }
      ]
    },
    {
      "cell_type": "markdown",
      "source": [
        "### Explanation:\n",
        "- The code randomly selects an index `j` and swaps elements at index `i` and `j` for each element in the list, effectively shuffling it.\n"
      ],
      "metadata": {
        "id": "8pGuQzTdFD7o"
      }
    },
    {
      "cell_type": "markdown",
      "source": [
        "Qno.21 Write a code that takes two tuples as input and returns a new tuple containing elements that are common to both input tuples\n"
      ],
      "metadata": {
        "id": "3d-a10KGFHgZ"
      }
    },
    {
      "cell_type": "markdown",
      "source": [
        "Here’s a Python code that takes two tuples as input and returns a new tuple containing elements common to both tuples:\n"
      ],
      "metadata": {
        "id": "bEJXo4RKFQgc"
      }
    },
    {
      "cell_type": "code",
      "source": [
        "def common_elements(tuple1, tuple2):\n",
        "    return tuple(set(tuple1) & set(tuple2))\n",
        "\n",
        "# Example usage\n",
        "tuple1 = (1, 2, 3, 4)\n",
        "tuple2 = (3, 4, 5, 6)\n",
        "result = common_elements(tuple1, tuple2)\n",
        "print(result)  # Output: (3, 4)\n"
      ],
      "metadata": {
        "colab": {
          "base_uri": "https://localhost:8080/"
        },
        "id": "umiegZJzFrOS",
        "outputId": "2fca86b7-e0ef-4760-eb09-b435f67394e6"
      },
      "execution_count": null,
      "outputs": [
        {
          "output_type": "stream",
          "name": "stdout",
          "text": [
            "(3, 4)\n"
          ]
        }
      ]
    },
    {
      "cell_type": "markdown",
      "source": [
        "### Explanation:\n",
        "- The code converts both tuples to sets and finds the intersection, then converts the result back into a tuple.\n"
      ],
      "metadata": {
        "id": "MiIYDmvCFxtH"
      }
    },
    {
      "cell_type": "markdown",
      "source": [
        "Qno.22 Create a code that prompts the user to enter two sets of integers separated by commas. Then, print the intersection of these two sets\n"
      ],
      "metadata": {
        "id": "IvR21AHiF1Pg"
      }
    },
    {
      "cell_type": "markdown",
      "source": [
        "\n",
        "Here’s a Python code that prompts the user to enter two sets of integers separated by commas and then prints the intersection of those two sets:\n"
      ],
      "metadata": {
        "id": "mre_MvE9F3zA"
      }
    },
    {
      "cell_type": "code",
      "source": [
        "def get_input(prompt):\n",
        "    return set(map(int, input(prompt).split(',')))\n",
        "\n",
        "# Get user input\n",
        "set1 = get_input(\"Enter the first set of integers (comma-separated): \")\n",
        "set2 = get_input(\"Enter the second set of integers (comma-separated): \")\n",
        "\n",
        "# Find and print the intersection\n",
        "intersection = set1 & set2\n",
        "print(f\"The intersection of the two sets is: {intersection}\")\n"
      ],
      "metadata": {
        "colab": {
          "base_uri": "https://localhost:8080/"
        },
        "id": "ufEdG-FDF9Pb",
        "outputId": "eea096ac-b2fe-4872-a9c8-181be64c9bcc"
      },
      "execution_count": null,
      "outputs": [
        {
          "output_type": "stream",
          "name": "stdout",
          "text": [
            "Enter the first set of integers (comma-separated): 2\n",
            "Enter the second set of integers (comma-separated): 4\n",
            "The intersection of the two sets is: set()\n"
          ]
        }
      ]
    },
    {
      "cell_type": "markdown",
      "source": [
        "### Explanation:\n",
        "- The `get_input` function prompts the user for a comma-separated list of integers, converts it to a set, and returns it.\n",
        "- The intersection of the two sets is calculated using the `&` operator and printed.\n"
      ],
      "metadata": {
        "id": "gBlO3gE_F6fz"
      }
    },
    {
      "cell_type": "markdown",
      "source": [
        "\n",
        "Qno.23  Write a code to concatenate two tuples. The function should take two tuples as input and return a new tuple containing elements from both input tuples.\n",
        "\n"
      ],
      "metadata": {
        "id": "2gni12gEGIya"
      }
    },
    {
      "cell_type": "markdown",
      "source": [
        "Here’s a Python code to concatenate two tuples. The function takes two tuples as input and returns a new tuple containing elements from both:\n"
      ],
      "metadata": {
        "id": "DhYlwirhGUyO"
      }
    },
    {
      "cell_type": "code",
      "source": [
        "def concatenate_tuples(tuple1, tuple2):\n",
        "    return tuple1 + tuple2\n",
        "\n",
        "# Example usage\n",
        "tuple1 = (1, 2, 3)\n",
        "tuple2 = (4, 5, 6)\n",
        "result = concatenate_tuples(tuple1, tuple2)\n",
        "print(result)  # Output: (1, 2, 3, 4, 5, 6)\n"
      ],
      "metadata": {
        "colab": {
          "base_uri": "https://localhost:8080/"
        },
        "id": "WNomvad1LQw7",
        "outputId": "6289e2ae-f09d-4feb-f66d-945cc7b3d08a"
      },
      "execution_count": null,
      "outputs": [
        {
          "output_type": "stream",
          "name": "stdout",
          "text": [
            "(1, 2, 3, 4, 5, 6)\n"
          ]
        }
      ]
    },
    {
      "cell_type": "markdown",
      "source": [
        "### Explanation:\n",
        "- The function `concatenate_tuples` uses the `+` operator to concatenate the two input tuples and returns the result.\n",
        "\n"
      ],
      "metadata": {
        "id": "CHjqApSEGYVN"
      }
    },
    {
      "cell_type": "markdown",
      "source": [
        "Qno.24 Develop a code that prompts the user to input two sets of strings. Then, print the elements that are present in the first set but not in the second set.\n",
        "\n"
      ],
      "metadata": {
        "id": "78uiycKgGhBJ"
      }
    },
    {
      "cell_type": "markdown",
      "source": [
        "Here’s a Python code that prompts the user to input two sets of strings and then prints the elements present in the first set but not in the second set:\n"
      ],
      "metadata": {
        "id": "GpVFtwzFGudA"
      }
    },
    {
      "cell_type": "code",
      "source": [
        "def get_input(prompt):\n",
        "    return set(input(prompt).split(','))\n",
        "\n",
        "# Get user input\n",
        "set1 = get_input(\"Enter the first set of strings (comma-separated): \")\n",
        "set2 = get_input(\"Enter the second set of strings (comma-separated): \")\n",
        "\n",
        "# Find and print elements present in the first set but not in the second\n",
        "difference = set1 - set2\n",
        "print(f\"Elements in the first set but not in the second set: {difference}\")\n"
      ],
      "metadata": {
        "colab": {
          "base_uri": "https://localhost:8080/"
        },
        "id": "iCE5DM2-GvPH",
        "outputId": "3ea0c7c5-e167-45c1-9f8a-42a69f6de84c"
      },
      "execution_count": null,
      "outputs": [
        {
          "output_type": "stream",
          "name": "stdout",
          "text": [
            "Enter the first set of strings (comma-separated): basit\n",
            "Enter the second set of strings (comma-separated): gousia\n",
            "Elements in the first set but not in the second set: {'basit'}\n"
          ]
        }
      ]
    },
    {
      "cell_type": "markdown",
      "source": [
        "### Explanation:\n",
        "- The `get_input` function prompts the user for comma-separated strings, splits the input into a list, and converts it into a set.\n",
        "- The difference between the two sets is computed using the `-` operator and printed.\n"
      ],
      "metadata": {
        "id": "nGjWeBSnG-Hn"
      }
    },
    {
      "cell_type": "markdown",
      "source": [
        "Qno.25  Create a code that takes a tuple and two integers as input. The function should return a new tuple containing elements from the original tuple within the specified range of indices\n"
      ],
      "metadata": {
        "id": "nIlMCWIFHBKH"
      }
    },
    {
      "cell_type": "markdown",
      "source": [
        "Here’s a Python code that takes a tuple and two integers as input, and returns a new tuple containing elements from the original tuple within the specified range of indices:\n"
      ],
      "metadata": {
        "id": "G2KPXozLHUZc"
      }
    },
    {
      "cell_type": "code",
      "source": [
        "def slice_tuple(tup, start, end):\n",
        "    return tup[start:end]\n",
        "\n",
        "# Example usage\n",
        "my_tuple = (10, 20, 30, 40, 50)\n",
        "start_index = int(input(\"Enter the start index: \"))\n",
        "end_index = int(input(\"Enter the end index: \"))\n",
        "\n",
        "result = slice_tuple(my_tuple, start_index, end_index)\n",
        "print(result)\n"
      ],
      "metadata": {
        "colab": {
          "base_uri": "https://localhost:8080/"
        },
        "id": "4dhwH5t2K7q_",
        "outputId": "d8cfd9f6-6b7b-4755-9b26-83c9be95e647"
      },
      "execution_count": null,
      "outputs": [
        {
          "output_type": "stream",
          "name": "stdout",
          "text": [
            "Enter the start index: 10\n",
            "Enter the end index: 50\n",
            "()\n"
          ]
        }
      ]
    },
    {
      "cell_type": "markdown",
      "source": [
        "### Explanation:\n",
        "- The `slice_tuple` function uses Python's slicing to return a portion of the tuple from `start` to `end` (excluding `end`).\n",
        "\n"
      ],
      "metadata": {
        "id": "YypazwX9La9K"
      }
    },
    {
      "cell_type": "markdown",
      "source": [
        " Write a code that prompts the user to input two sets of characters. Then, print the union of these two sets\n"
      ],
      "metadata": {
        "id": "tQiGxi1ELqcG"
      }
    },
    {
      "cell_type": "markdown",
      "source": [
        "Here’s a Python code that prompts the user to input two sets of characters and then prints the union of these two sets:\n",
        "\n"
      ],
      "metadata": {
        "id": "L4LxXjXWLwXR"
      }
    },
    {
      "cell_type": "code",
      "source": [
        "\\def get_input(prompt):\n",
        "    return set(input(prompt).split(','))\n",
        "\n",
        "# Get user input\n",
        "set1 = get_input(\"Enter the first set of characters (comma-separated): \")\n",
        "set2 = get_input(\"Enter the second set of characters (comma-separated): \")\n",
        "\n",
        "# Find and print the union\n",
        "union = set1 | set2\n",
        "print(f\"The union of the two sets is: {union}\")\n"
      ],
      "metadata": {
        "colab": {
          "base_uri": "https://localhost:8080/"
        },
        "id": "SOCGgJXmLyaR",
        "outputId": "13f68380-2a4e-4783-f098-dd2b6cdb14c0"
      },
      "execution_count": null,
      "outputs": [
        {
          "output_type": "stream",
          "name": "stdout",
          "text": [
            "Enter the first set of characters (comma-separated): set 1\n",
            "Enter the second set of characters (comma-separated): set 2\n",
            "The union of the two sets is: {'set 2', 'set 1'}\n"
          ]
        }
      ]
    },
    {
      "cell_type": "markdown",
      "source": [
        "### Explanation:\n",
        "- The `get_input` function prompts the user to input comma-separated characters, which are then converted into sets.\n",
        "- The union of the two sets is calculated using the `|` operator and printed.\n"
      ],
      "metadata": {
        "id": "1yKPbdW4L1zh"
      }
    },
    {
      "cell_type": "markdown",
      "source": [
        "Qno.27  Develop a code that takes a tuple of integers as input. The function should return the maximum and minimum values from the tuple using tuple unpacking\n"
      ],
      "metadata": {
        "id": "wr4Bo05VL5FJ"
      }
    },
    {
      "cell_type": "markdown",
      "source": [
        "\n",
        "Here’s a Python code that takes a tuple of integers as input and returns the maximum and minimum values using tuple unpacking:\n"
      ],
      "metadata": {
        "id": "siqBFjSHM3Px"
      }
    },
    {
      "cell_type": "code",
      "source": [
        "def find_max_min(tup):\n",
        "    max_val, min_val = max(tup), min(tup)\n",
        "    return max_val, min_val\n",
        "\n",
        "# Example usage\n",
        "my_tuple = tuple(map(int, input(\"Enter a tuple of integers (comma-separated): \").split(',')))\n",
        "\n",
        "max_val, min_val = find_max_min(my_tuple)\n",
        "print(f\"Maximum value: {max_val}, Minimum value: {min_val}\")\n"
      ],
      "metadata": {
        "colab": {
          "base_uri": "https://localhost:8080/"
        },
        "id": "rEKpM14UM52V",
        "outputId": "1608861d-8273-4431-fb37-45380ea2e275"
      },
      "execution_count": null,
      "outputs": [
        {
          "output_type": "stream",
          "name": "stdout",
          "text": [
            "Enter a tuple of integers (comma-separated): 2\n",
            "Maximum value: 2, Minimum value: 2\n"
          ]
        }
      ]
    },
    {
      "cell_type": "markdown",
      "source": [
        "\n",
        "### Explanation:\n",
        "- The `find_max_min` function uses the `max()` and `min()` functions to find the maximum and minimum values.\n",
        "- Tuple unpacking is used to assign the maximum and minimum values to `max_val` and `min_val`.\n"
      ],
      "metadata": {
        "id": "tPUE8j20NLiA"
      }
    },
    {
      "cell_type": "markdown",
      "source": [
        "Qno.28 Create a code that defines two sets of integers. Then, print the union, intersection, and difference of these two sets\n"
      ],
      "metadata": {
        "id": "iqAXusN2NNaG"
      }
    },
    {
      "cell_type": "markdown",
      "source": [
        "Here’s a Python code that defines two sets of integers and prints the union, intersection, and difference of these sets:\n"
      ],
      "metadata": {
        "id": "sq1X8UUcNg6K"
      }
    },
    {
      "cell_type": "code",
      "source": [
        "set1 = {1, 2, 3, 4}\n",
        "set2 = {3, 4, 5, 6}\n",
        "\n",
        "# Union, Intersection, and Difference\n",
        "print(f\"Union: {set1 | set2}\")\n",
        "print(f\"Intersection: {set1 & set2}\")\n",
        "print(f\"Difference: {set1 - set2}\")\n"
      ],
      "metadata": {
        "colab": {
          "base_uri": "https://localhost:8080/"
        },
        "id": "FP7WeCQUNn2g",
        "outputId": "62410fe0-3fda-479e-a005-40b0f90586a4"
      },
      "execution_count": null,
      "outputs": [
        {
          "output_type": "stream",
          "name": "stdout",
          "text": [
            "Union: {1, 2, 3, 4, 5, 6}\n",
            "Intersection: {3, 4}\n",
            "Difference: {1, 2}\n"
          ]
        }
      ]
    },
    {
      "cell_type": "markdown",
      "source": [
        "### Explanation:\n",
        "- The `|` operator computes the union, `&` computes the intersection, and `-` computes the difference of the sets.\n",
        "\n"
      ],
      "metadata": {
        "id": "0VLcn8PnNuBk"
      }
    },
    {
      "cell_type": "markdown",
      "source": [
        "Qno.29 Write a code that takes a tuple and an element as input. The function should return the count of occurrences of the given element in the tuple\n",
        "\n"
      ],
      "metadata": {
        "id": "fUwG-yOdNx6h"
      }
    },
    {
      "cell_type": "markdown",
      "source": [
        "Here’s a Python code that takes a tuple and an element as input and returns the count of occurrences of the given element in the tuple:\n"
      ],
      "metadata": {
        "id": "9dJgWjUKN8C9"
      }
    },
    {
      "cell_type": "code",
      "source": [
        "def count_occurrences(tup, element):\n",
        "    return tup.count(element)\n",
        "\n",
        "# Example usage\n",
        "my_tuple = tuple(input(\"Enter a tuple (comma-separated): \").split(','))\n",
        "element = input(\"Enter the element to count: \")\n",
        "\n",
        "count = count_occurrences(my_tuple, element)\n",
        "print(f\"The element '{element}' appears {count} times in the tuple.\")\n"
      ],
      "metadata": {
        "colab": {
          "base_uri": "https://localhost:8080/"
        },
        "id": "Z59D11P4N8mL",
        "outputId": "ecf043be-6357-4ae1-d3ff-ff56cc50ae00"
      },
      "execution_count": null,
      "outputs": [
        {
          "output_type": "stream",
          "name": "stdout",
          "text": [
            "Enter a tuple (comma-separated): 3\n",
            "Enter the element to count: list\n",
            "The element 'list' appears 0 times in the tuple.\n"
          ]
        }
      ]
    },
    {
      "cell_type": "markdown",
      "source": [
        "### Explanation:\n",
        "- The `count_occurrences` function uses the `count()` method of tuples to count how many times the given element appears in the tuple.\n",
        "\n",
        "\n"
      ],
      "metadata": {
        "id": "XM40IffgOAPb"
      }
    },
    {
      "cell_type": "markdown",
      "source": [
        "Qno.30 Develop a code that prompts the user to input two sets of strings. Then, print the symmetric difference of these two sets\n"
      ],
      "metadata": {
        "id": "maJsejWaOR3p"
      }
    },
    {
      "cell_type": "markdown",
      "source": [
        "Here’s a Python code that prompts the user to input two sets of strings and then prints the symmetric difference of these two sets:\n",
        "\n"
      ],
      "metadata": {
        "id": "5wuTVl7sOYy8"
      }
    },
    {
      "cell_type": "code",
      "source": [
        "def get_input(prompt):\n",
        "    return set(input(prompt).split(','))\n",
        "\n",
        "# Get user input\n",
        "set1 = get_input(\"Enter the first set of strings (comma-separated): \")\n",
        "set2 = get_input(\"Enter the second set of strings (comma-separated): \")\n",
        "\n",
        "# Find and print the symmetric difference\n",
        "symmetric_diff = set1 ^ set2\n",
        "print(f\"The symmetric difference of the two sets is: {symmetric_diff}\")\n"
      ],
      "metadata": {
        "colab": {
          "base_uri": "https://localhost:8080/"
        },
        "id": "n-GqKG-FOcQL",
        "outputId": "5f81f734-748e-4b28-82fc-5eda7bf982b5"
      },
      "execution_count": null,
      "outputs": [
        {
          "output_type": "stream",
          "name": "stdout",
          "text": [
            "Enter the first set of strings (comma-separated): set 1\n",
            "Enter the second set of strings (comma-separated): set 2\n",
            "The symmetric difference of the two sets is: {'set 2', 'set 1'}\n"
          ]
        }
      ]
    },
    {
      "cell_type": "markdown",
      "source": [
        "### Explanation:\n",
        "- The `get_input` function prompts the user to enter a comma-separated list of strings, which is then converted into a set.- The symmetric difference is calculated using the `^` operator and printed.\n",
        "\n"
      ],
      "metadata": {
        "id": "-99bIT7EOdJf"
      }
    },
    {
      "cell_type": "markdown",
      "source": [
        "Qno.31 Write a code that takes a list of words as input and returns a dictionary where the keys are unique words and the values are the frequencies of those words in the input list\n"
      ],
      "metadata": {
        "id": "sbbFPuWEOsHn"
      }
    },
    {
      "cell_type": "markdown",
      "source": [
        "Here’s a Python code that takes a list of words as input and returns a dictionary where the keys are unique words and the values are their frequencies:\n",
        "\n"
      ],
      "metadata": {
        "id": "da1y2MSCPG9C"
      }
    },
    {
      "cell_type": "code",
      "source": [
        "def word_frequencies(words):\n",
        "    freq_dict = {}\n",
        "    for word in words:\n",
        "        freq_dict[word] = freq_dict.get(word, 0) + 1\n",
        "    return freq_dict\n",
        "\n",
        "# Example usage\n",
        "words = input(\"Enter a list of words (space-separated): \").split()\n",
        "result = word_frequencies(words)\n",
        "print(result)\n"
      ],
      "metadata": {
        "colab": {
          "base_uri": "https://localhost:8080/"
        },
        "id": "7ytQf8lYOqz6",
        "outputId": "6bc58690-ebfa-444f-bf8f-8bc816880cb8"
      },
      "execution_count": null,
      "outputs": [
        {
          "output_type": "stream",
          "name": "stdout",
          "text": [
            "Enter a list of words (space-separated): a,b, c\n",
            "{'a,b,': 1, 'c': 1}\n"
          ]
        }
      ]
    },
    {
      "cell_type": "markdown",
      "source": [],
      "metadata": {
        "id": "xlSjmZZ1Os5a"
      }
    },
    {
      "cell_type": "markdown",
      "source": [
        "\n",
        "### Explanation:\n",
        "- The `word_frequencies` function iterates through the list of words and uses the `get()` method to count occurrences of each word.\n",
        "\n"
      ],
      "metadata": {
        "id": "EJ8ctPXPPYUS"
      }
    },
    {
      "cell_type": "markdown",
      "source": [
        "Qno.32 Write a code that takes two dictionaries as input and merges them into a single dictionary. If there are common keys, the values should be added together\n"
      ],
      "metadata": {
        "id": "evQGtkq2PbJS"
      }
    },
    {
      "cell_type": "markdown",
      "source": [
        "Here’s a Python code that takes two dictionaries as input, merges them, and adds values together for common keys:\n"
      ],
      "metadata": {
        "id": "VOycUfwkPiRl"
      }
    },
    {
      "cell_type": "code",
      "source": [
        "def merge_dicts(dict1, dict2):\n",
        "    merged = dict1.copy()  # Copy dict1 to avoid modifying it\n",
        "    for key, value in dict2.items():\n",
        "        merged[key] = merged.get(key, 0) + value\n",
        "    return merged\n",
        "\n",
        "# Example usage\n",
        "dict1 = {'a': 1, 'b': 2}\n",
        "dict2 = {'b': 3, 'c': 4}\n",
        "result = merge_dicts(dict1, dict2)\n",
        "print(result)\n"
      ],
      "metadata": {
        "colab": {
          "base_uri": "https://localhost:8080/"
        },
        "id": "-jBnjfWHPm9o",
        "outputId": "f07a11ed-936f-4483-9b80-576d43d675c3"
      },
      "execution_count": null,
      "outputs": [
        {
          "output_type": "stream",
          "name": "stdout",
          "text": [
            "{'a': 1, 'b': 5, 'c': 4}\n"
          ]
        }
      ]
    },
    {
      "cell_type": "markdown",
      "source": [
        "### Explanation:\n",
        "- The `merge_dicts` function iterates over `dict2` and adds values to `dict1` using `get()` to handle existing keys and add values.\n",
        "\n"
      ],
      "metadata": {
        "id": "m0LUBkoAPqz5"
      }
    },
    {
      "cell_type": "markdown",
      "source": [
        "Qno.33 Write a code to access a value in a nested dictionary. The function should take the dictionary and a list of keys as input, and return the corresponding value. If any of the keys do not exist in the dictionary, the function should return None\n"
      ],
      "metadata": {
        "id": "KplM0tBuPteQ"
      }
    },
    {
      "cell_type": "markdown",
      "source": [
        "Here’s a Python code to access a value in a nested dictionary using a list of keys:\n",
        "\n"
      ],
      "metadata": {
        "id": "48ES7amgP0Jw"
      }
    },
    {
      "cell_type": "code",
      "source": [
        "def access_value(d, keys):\n",
        "    for key in keys:\n",
        "        d = d.get(key, None)\n",
        "        if d is None:\n",
        "            return None\n",
        "    return d\n",
        "\n",
        "# Example usage\n",
        "nested_dict = {'a': {'b': {'c': 10}}}\n",
        "keys = ['a', 'b', 'c']\n",
        "result = access_value(nested_dict, keys)\n",
        "print(result)  # Output: 10\n"
      ],
      "metadata": {
        "colab": {
          "base_uri": "https://localhost:8080/"
        },
        "id": "Ls4LSfrpP22H",
        "outputId": "27f6ecd8-b837-409f-e975-2f2e68a43544"
      },
      "execution_count": null,
      "outputs": [
        {
          "output_type": "stream",
          "name": "stdout",
          "text": [
            "10\n"
          ]
        }
      ]
    },
    {
      "cell_type": "markdown",
      "source": [
        "### Explanation:\n",
        "- The `access_value` function iterates through the list of keys, using `get()` to access nested dictionaries, returning `None` if any key is missing.\n",
        "\n"
      ],
      "metadata": {
        "id": "J4fJCeCpP56h"
      }
    },
    {
      "cell_type": "markdown",
      "source": [
        "\n",
        "Qno.34 Write a code that takes a dictionary as input and returns a sorted version of it based on the values. You can choose whether to sort in ascending or descending order\n"
      ],
      "metadata": {
        "id": "5X8qNJvYP85a"
      }
    },
    {
      "cell_type": "markdown",
      "source": [
        "Here’s a Python code that takes a dictionary as input and returns a sorted version of it based on the values:\n"
      ],
      "metadata": {
        "id": "-CapmjR7QG3K"
      }
    },
    {
      "cell_type": "code",
      "source": [
        "def sort_dict_by_value(d, reverse=False):\n",
        "    return dict(sorted(d.items(), key=lambda item: item[1], reverse=reverse))\n",
        "\n",
        "# Example usage\n",
        "my_dict = {'a': 3, 'b': 1, 'c': 2}\n",
        "result = sort_dict_by_value(my_dict, reverse=True)\n",
        "print(result)  # Output: {'a': 3, 'c': 2, 'b': 1}\n"
      ],
      "metadata": {
        "colab": {
          "base_uri": "https://localhost:8080/"
        },
        "id": "zeughMSxQKB1",
        "outputId": "0f239959-c61a-488e-a39f-2b8baa177783"
      },
      "execution_count": null,
      "outputs": [
        {
          "output_type": "stream",
          "name": "stdout",
          "text": [
            "{'a': 3, 'c': 2, 'b': 1}\n"
          ]
        }
      ]
    },
    {
      "cell_type": "markdown",
      "source": [
        "### Explanation:\n",
        "- The `sort_dict_by_value` function sorts the dictionary items based on values using `sorted()`, with an optional `reverse` parameter for descending order.\n",
        "\n"
      ],
      "metadata": {
        "id": "yIvMAVc9QKi6"
      }
    },
    {
      "cell_type": "markdown",
      "source": [
        " Qno.35 Write a code that inverts a dictionary, swapping keys and values. Ensure that the inverted dictionary correctly handles cases where multiple keys have the same value by storing the keys as a list in the inverted dictionary.\n"
      ],
      "metadata": {
        "id": "fxMMh8pyQS_5"
      }
    },
    {
      "cell_type": "markdown",
      "source": [
        "Here’s a Python code that inverts a dictionary, handling cases where multiple keys have the same value by storing keys as a list:\n",
        "\n"
      ],
      "metadata": {
        "id": "RbAN_C1fQYV8"
      }
    },
    {
      "cell_type": "code",
      "source": [
        "def invert_dict(d):\n",
        "    inverted = {}\n",
        "    for key, value in d.items():\n",
        "        if value not in inverted:\n",
        "            inverted[value] = [key]\n",
        "        else:\n",
        "            inverted[value].append(key)\n",
        "    return inverted\n",
        "\n",
        "# Example usage\n",
        "my_dict = {'a': 1, 'b': 2, 'c': 1}\n",
        "result = invert_dict(my_dict)\n",
        "print(result)  # Output: {1: ['a', 'c'], 2: ['b']}\n"
      ],
      "metadata": {
        "colab": {
          "base_uri": "https://localhost:8080/"
        },
        "id": "olsrzMSPQbaV",
        "outputId": "25adb7d2-5469-4510-b7bb-b3b764c27773"
      },
      "execution_count": null,
      "outputs": [
        {
          "output_type": "stream",
          "name": "stdout",
          "text": [
            "{1: ['a', 'c'], 2: ['b']}\n"
          ]
        }
      ]
    },
    {
      "cell_type": "markdown",
      "source": [
        "### Explanation:\n",
        "- The `invert_dict` function creates a new dictionary where values become keys, and keys become values (stored as lists for duplicate values).\n",
        "\n"
      ],
      "metadata": {
        "id": "kIq6PCcjQe6z"
      }
    }
  ]
}